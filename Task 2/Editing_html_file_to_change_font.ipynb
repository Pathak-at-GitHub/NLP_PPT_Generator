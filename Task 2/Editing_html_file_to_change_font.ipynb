{
 "cells": [
  {
   "cell_type": "code",
   "execution_count": 1,
   "id": "094991d3",
   "metadata": {},
   "outputs": [],
   "source": [
    "# <style>\n",
    "#         @font-face {\n",
    "#             font-family: 'Love Ya Like A Sister';\n",
    "#             src: url('sample_font_file.ttf') format('truetype');\n",
    "#         }\n",
    "\n",
    "#         div math{\n",
    "#             font-family: 'Love Ya Like A Sister';\n",
    "#             color: green;\n",
    "#         }\n",
    "# </style>"
   ]
  },
  {
   "cell_type": "code",
   "execution_count": 4,
   "id": "c65ec2d4",
   "metadata": {},
   "outputs": [
    {
     "name": "stdout",
     "output_type": "stream",
     "text": [
      "<class 'bs4.element.Tag'>\n"
     ]
    }
   ],
   "source": [
    "from bs4 import BeautifulSoup\n",
    "\n",
    "# Read the HTML file\n",
    "with open('sample_task2.html', 'r') as file:\n",
    "    html_content = file.read()\n",
    "\n",
    "# Create a BeautifulSoup object\n",
    "soup = BeautifulSoup(html_content, 'html.parser')\n",
    "\n",
    "# Find the html tag\n",
    "html_tag = soup.html\n",
    "\n",
    "# Print the html tag content\n",
    "print(type(html_tag))\n"
   ]
  },
  {
   "cell_type": "code",
   "execution_count": 10,
   "id": "350b2237",
   "metadata": {},
   "outputs": [],
   "source": [
    "# Read the HTML file\n",
    "with open('sample_task2.html', 'r') as file:\n",
    "    html_content = file.readlines()\n",
    "\n",
    "# Find the index of the line containing the specific word\n",
    "word = '<html>'\n",
    "line_index = None\n",
    "for i, line in enumerate(html_content):\n",
    "    if word in line:\n",
    "        line_index = i\n",
    "        break\n",
    "\n",
    "# Check if the word was found\n",
    "if line_index is not None:\n",
    "    # Insert the new lines after the line with the word\n",
    "    new_lines = ['<style>', '@font-face {', \"font-family: 'Love Ya Like A Sister';\", \"src: url('sample_font_file.ttf') format('truetype');\", '}',\"div math{font-family: 'Love Ya Like A Sister';color: green;}\",'</style>']\n",
    "    html_content[line_index+1:line_index+1] = new_lines\n",
    "\n",
    "    # Write the updated content back to the HTML file\n",
    "    with open('sample_task2.html', 'w') as file:\n",
    "        file.writelines(html_content)\n",
    "else:\n",
    "    print(\"Word not found in the HTML file.\")\n"
   ]
  },
  {
   "cell_type": "code",
   "execution_count": null,
   "id": "9876039c",
   "metadata": {},
   "outputs": [],
   "source": []
  }
 ],
 "metadata": {
  "kernelspec": {
   "display_name": "Python 3 (ipykernel)",
   "language": "python",
   "name": "python3"
  },
  "language_info": {
   "codemirror_mode": {
    "name": "ipython",
    "version": 3
   },
   "file_extension": ".py",
   "mimetype": "text/x-python",
   "name": "python",
   "nbconvert_exporter": "python",
   "pygments_lexer": "ipython3",
   "version": "3.9.7"
  }
 },
 "nbformat": 4,
 "nbformat_minor": 5
}
