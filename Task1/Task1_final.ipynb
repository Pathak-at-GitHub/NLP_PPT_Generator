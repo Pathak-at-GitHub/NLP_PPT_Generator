{
 "cells": [
  {
   "cell_type": "code",
   "execution_count": 7,
   "id": "4efca0af",
   "metadata": {},
   "outputs": [],
   "source": [
    "from pptx import Presentation\n",
    "from pptx.util import Inches\n",
    "from pptx.enum.text import PP_ALIGN"
   ]
  },
  {
   "cell_type": "code",
   "execution_count": 8,
   "id": "77e62d58",
   "metadata": {},
   "outputs": [],
   "source": [
    "p = Presentation()"
   ]
  },
  {
   "cell_type": "code",
   "execution_count": 9,
   "id": "77585448",
   "metadata": {},
   "outputs": [],
   "source": [
    "slide1_register = p.slide_layouts[1]\n",
    "slide1 = p.slides.add_slide(slide1_register)\n",
    "title1 = slide1.shapes.title\n",
    "sub_title1 = slide1.placeholders[1]\n",
    "\n",
    "with open('sample_slide1_input.txt', 'r') as file:\n",
    "    slide1_content = file.read()\n",
    "\n",
    "title1.text = \"slide 1\"\n",
    "sub_title1.text = slide1_content"
   ]
  },
  {
   "cell_type": "code",
   "execution_count": 10,
   "id": "14460a07",
   "metadata": {},
   "outputs": [],
   "source": [
    "slide2_register = p.slide_layouts[1]\n",
    "slide2 = p.slides.add_slide(slide2_register)\n",
    "title2 = slide2.shapes.title\n",
    "sub_title2 = slide2.placeholders[1]\n",
    "\n",
    "with open('sample_slide2_input.txt', 'r') as file:\n",
    "    slide2_content = file.read()\n",
    "\n",
    "title2.text = \"slide 2\"\n",
    "sub_title2.text = slide2_content"
   ]
  },
  {
   "cell_type": "code",
   "execution_count": 12,
   "id": "84015a81",
   "metadata": {},
   "outputs": [],
   "source": [
    "p.save('Task_1_ppt.pptx')"
   ]
  },
  {
   "cell_type": "code",
   "execution_count": 15,
   "id": "d0011647",
   "metadata": {},
   "outputs": [],
   "source": [
    "from pptx import Presentation\n",
    "from pptx.util import Pt\n",
    "from pptx.dml.color import RGBColor\n",
    "\n",
    "def change_font(presentation_path, font_file_path):\n",
    "    presentation = Presentation(presentation_path)\n",
    "    for slide in presentation.slides:\n",
    "        for shape in slide.shapes:\n",
    "            if shape.has_text_frame:\n",
    "                text_frame = shape.text_frame\n",
    "                for paragraph in text_frame.paragraphs:\n",
    "                    for run in paragraph.runs:\n",
    "                        run.font.file = font_file_path\n",
    "                        run.font.name = ' Love Ya Like A Sister'\n",
    "                        run.font.size = Pt(10)\n",
    "#                         run.font.color.rgb = RGBColor(0, 0, 0)\n",
    "\n",
    "    # Save the modified presentation\n",
    "    presentation.save('Task_1_ppt.pptx')\n",
    "\n",
    "# Usage example\n",
    "presentation_path = 'Task_1_ppt.pptx'\n",
    "font_file_path = 'sample_font_file.ttf'\n",
    "change_font(presentation_path, font_file_path)\n"
   ]
  },
  {
   "cell_type": "code",
   "execution_count": null,
   "id": "f2f8c6bf",
   "metadata": {},
   "outputs": [],
   "source": []
  },
  {
   "cell_type": "code",
   "execution_count": null,
   "id": "9c77d47b",
   "metadata": {},
   "outputs": [],
   "source": []
  },
  {
   "cell_type": "code",
   "execution_count": null,
   "id": "6ca56247",
   "metadata": {},
   "outputs": [],
   "source": []
  },
  {
   "cell_type": "code",
   "execution_count": null,
   "id": "03d942cb",
   "metadata": {},
   "outputs": [],
   "source": []
  }
 ],
 "metadata": {
  "kernelspec": {
   "display_name": "Python 3 (ipykernel)",
   "language": "python",
   "name": "python3"
  },
  "language_info": {
   "codemirror_mode": {
    "name": "ipython",
    "version": 3
   },
   "file_extension": ".py",
   "mimetype": "text/x-python",
   "name": "python",
   "nbconvert_exporter": "python",
   "pygments_lexer": "ipython3",
   "version": "3.9.7"
  }
 },
 "nbformat": 4,
 "nbformat_minor": 5
}
